{
 "cells": [
  {
   "cell_type": "markdown",
   "metadata": {},
   "source": [
    "## Final Project"
   ]
  },
  {
   "cell_type": "markdown",
   "metadata": {},
   "source": [
    "https://ieeexplore.ieee.org/abstract/document/5611564\n",
    "$$\\begin{align}\n",
    "\\dfrac{\\Delta\\rho}{\\Delta T}&=\\alpha\\rho\n",
    "\\end{align}$$\n",
    "I'm going to extend this to a continuum:\n",
    "$$\\begin{align}\n",
    "\\dfrac{d\\rho}{dT}&=\\alpha\\rho\n",
    "\\end{align}$$\n",
    "So we can find that:\n",
    "$$\\rho(T)=\\rho(T_0)e^{\\alpha(T-T_0)}$$\n",
    "This is a simplified model, but correctly accounts for the exponential behavior instead of just being a linear relationship (which fails at higher temperatures)."
   ]
  },
  {
   "cell_type": "markdown",
   "metadata": {},
   "source": [
    "### Case 1: Constrained Wires\n",
    "We'll assume that the wires will not expand in any direction.\n",
    "This means that $l$, $A_s$, and $A_\\perp$ doesn't change with temperature.\n",
    "\n",
    "#### Resistivity\n",
    "$$\\begin{align}\n",
    "\\rho(T)&=\\rho_0e^{\\alpha_\\rho(T-T_0)}\n",
    "\\end{align}$$\n",
    "\n",
    "#### Resistance\n",
    "$$\\begin{align}\n",
    "R&=\\dfrac{l}{A_\\perp}\\rho(T)\\\\\n",
    " &=\\dfrac{\\rho_0 l}{A_\\perp}e^{\\alpha_\\rho(T-T_0)}\\\\\n",
    "R&=R_0e^{\\alpha_\\rho(T-T_0)}\n",
    "\\end{align}$$\n",
    "\n",
    "#### Conservation of Energy\n",
    "$$\\begin{align}\n",
    "A_s\\sigma\\epsilon(T^4-T_\\text{ambient}^4)&=I^2R\\\\\n",
    "A_s\\sigma\\epsilon(T^4-T_\\text{ambient}^4)&=I^2R_0e^{\\alpha_\\rho(T-T_0)}\\\\\n",
    "A_s\\sigma\\epsilon(T^4-T_\\text{ambient}^4)&=I^2R_0e^{\\alpha_\\rho T}e^{-\\alpha_\\rho T_0}\\\\\n",
    "(T^4-T_\\text{ambient}^4)e^{-\\alpha_\\rho T}&=\\dfrac{I^2R_0}{A_s\\sigma\\epsilon}e^{-\\alpha_\\rho T_0}\\\\\n",
    "\\end{align}$$"
   ]
  },
  {
   "cell_type": "markdown",
   "metadata": {},
   "source": [
    "### Case 2: Unrestricted Wires\n",
    "We'll assume that the wires will not expand only in the length.\n",
    "This means that $l$ doesn't change with temperature.\n",
    "\n",
    "#### Temperature-Dependent Geometry\n",
    "$$\\begin{align}\n",
    "A_\\perp(T)=A_\\perp^0e^{2\\alpha_M(T-T_0)}\\\\\n",
    "A_s(T)=A_s^0e^{\\alpha_M(T-T_0)}\n",
    "\\end{align}$$\n",
    "\n",
    "#### Resistivity\n",
    "$$\\begin{align}\n",
    "\\rho(T)&=\\rho_0e^{\\alpha_\\rho(T-T_0)}\n",
    "\\end{align}$$\n",
    "\n",
    "#### Resistance\n",
    "$$\\begin{align}\n",
    "R&=l\\dfrac{\\rho(T)}{A_\\perp(T)}\\\\\n",
    " &=l\\dfrac{\\rho_0e^{\\alpha_\\rho(T-T_0)}}{A^0_\\perp e^{2\\alpha_M(T-T_0)}}\\\\\n",
    " &=l\\dfrac{\\rho_0}{A^0_\\perp}e^{(\\alpha_\\rho-2\\alpha_M)(T-T_0)}\\\\\n",
    "R&=R_0e^{(\\alpha_\\rho-2\\alpha_M)(T-T_0)}\\\\\n",
    "\\end{align}$$\n",
    "\n",
    "#### Conservation of Energy\n",
    "$$\\begin{align}\n",
    "A_s\\sigma\\epsilon(T^4-T_\\text{ambient}^4)&=I^2R\\\\\n",
    "A_s^0e^{\\alpha_M(T-T_0)}\\sigma\\epsilon(T^4-T_\\text{ambient}^4)&=I^2R_0e^{(\\alpha_\\rho-2\\alpha_M)(T-T_0)}\\\\\n",
    "(T^4-T_\\text{ambient}^4)e^{(3\\alpha_M-\\alpha_\\rho)T}&=\\dfrac{I^2R_0}{A_s^0\\sigma\\epsilon}e^{(3\\alpha_M-\\alpha_\\rho)T_0}\\\\\n",
    "(T^4-T_\\text{ambient}^4)e^{\\kappa T}&=\\dfrac{I^2R_0}{A_s^0\\sigma\\epsilon}e^{\\kappa T_0}\\\\\n",
    "(\\kappa T)^4e^{\\kappa T}&=\\dfrac{(3\\alpha_M-\\alpha_\\rho)^4 R_0}{A_s^0\\sigma\\epsilon}e^{\\kappa T_0}I^2\n",
    "\\end{align}$$\n",
    "\n",
    "#### Explicit Solution\n",
    "$$\\begin{align}\n",
    "(\\kappa T)^4e^{\\kappa T}&=\\dfrac{(3\\alpha_M-\\alpha_\\rho)^4 R_0}{A_s^0\\sigma\\epsilon}e^{\\kappa T_0}I^2\\\\\n",
    "T(I)&=\\dfrac{4}{\\kappa}W\\left(\\sqrt{I}\\sqrt[4]{\\dfrac{(3\\alpha_M-\\alpha_\\rho)^4 R_0}{256A_s^0\\sigma\\epsilon}e^{\\kappa T_0}}\\right)\n",
    "\\end{align}$$\n",
    "\n",
    "Where $W$ is the Lambert W Function.\n",
    "\n",
    "\n",
    "\n",
    "\n",
    "\n",
    "\n",
    "### Copper Material\n",
    "$\\rho_0$ at $20^\\circ$C : $1.68\\cdot10^{−8}$ Ohm meters\n",
    "https://www.thoughtco.com/table-of-electrical-resistivity-conductivity-608499\n",
    "\n"
   ]
  },
  {
   "cell_type": "markdown",
   "metadata": {},
   "source": [
    "I will be starting with the Stefan-Boltzmann law:\n",
    "$$\\begin{align}\n",
    "P=A\\epsilon\\sigma T^4\n",
    "\\end{align}$$\n",
    "Where $P$ is power, $\\epsilon$ is the emissivity where $0\\le\\epsilon\\le1$, $\\sigma$ is the Stefan-Boltzman constant, and $T$ is the temperature.\n",
    "\n",
    "We will be modeling a wire in a vacuum and the equalibrium temperature where the input current leads to a temperature of the wire. We assume that the wire is not going to melt, that all energy loss is through radiation, and that the length of the wire will not increase (constrained at the ends).\n",
    "\n",
    "\n",
    "\n"
   ]
  }
 ],
 "metadata": {
  "language_info": {
   "name": "python"
  }
 },
 "nbformat": 4,
 "nbformat_minor": 2
}
