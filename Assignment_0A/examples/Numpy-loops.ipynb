{
 "cells": [
  {
   "cell_type": "markdown",
   "id": "92749a9c-eb22-4dae-b9ec-cea11b8964e1",
   "metadata": {},
   "source": [
    "### Why is NumPy Faster than Python Loops?\n",
    "- **Python Loops**: Python is an interpreted language, meaning each line of code is executed one at a time. This makes loops relatively slow because of the overhead of interpreting each loop iteration.\n",
    "- **NumPy**: NumPy operations are implemented in highly optimized C code. When you use NumPy functions (e.g., `np.sum`), the entire operation is executed in compiled C code, which is much faster than interpreted Python.\n",
    "- **Vectorization**: NumPy leverages vectorized operations that process entire arrays at once, avoiding the need for explicit loops and reducing overhead.\n",
    "- **Memory Access**: NumPy arrays are stored in contiguous memory blocks, enabling efficient use of CPU caches, whereas Python lists are collections of objects with separate memory allocations.\n",
    "\n",
    "This efficiency is particularly evident in large datasets, where the time difference becomes substantial, as shown in this example.\n"
   ]
  },
  {
   "cell_type": "code",
   "id": "f3651e27-6ea1-41db-9e2c-39cae77c8ea1",
   "metadata": {
    "ExecuteTime": {
     "end_time": "2025-01-14T19:35:10.745644Z",
     "start_time": "2025-01-14T19:35:10.579179Z"
    }
   },
   "source": [
    "import numpy as np\n",
    "import time\n",
    "\n",
    "# Create some example data - an array of numbers from 0 to N-1\n",
    "N = 1000000\n",
    "data = np.arange(N)\n",
    "\n",
    "print(\"Let's compare different ways to sum even and odd indices\")\n",
    "print(\"\\nExample: Sum numbers at even indices and odd indices separately\")\n",
    "print(\"data =\", data[:10], \"...\") # Print first 10 numbers to show the array structure\n",
    "\n",
    "# Method 1: Classical Python loops\n",
    "# range(start, stop, step) generates numbers from start to stop-1 with given step\n",
    "start = time.time()\n",
    "even_sum_loop = 0\n",
    "odd_sum_loop = 0\n",
    "for i in range(0, N, 2):      # 0, 2, 4, ... N-1 (if N is odd) or N-2 (if N is even)\n",
    "   even_sum_loop += data[i]\n",
    "for i in range(1, N, 2):      # 1, 3, 5, ... N-1\n",
    "   odd_sum_loop += data[i]\n",
    "loop_time = time.time() - start\n",
    "\n",
    "# Method 2: Using numpy array slicing\n",
    "# In numpy, array[start:stop:step] takes elements from start to stop-1 with given step\n",
    "start = time.time()\n",
    "even_sum_numpy = np.sum(data[::2])   # [::2] means \"take every 2nd element starting from 0\"\n",
    "odd_sum_numpy = np.sum(data[1::2])   # [1::2] means \"take every 2nd element starting from 1\"\n",
    "numpy_time = time.time() - start\n",
    "\n",
    "print(f\"\\nResults using loops:\")\n",
    "print(f\"Sum of even indices: {even_sum_loop}\")\n",
    "print(f\"Sum of odd indices: {odd_sum_loop}\")\n",
    "print(f\"Time taken: {loop_time:.4f} seconds\")\n",
    "\n",
    "print(f\"\\nResults using numpy slicing:\")\n",
    "print(f\"Sum of even indices: {even_sum_numpy}\")\n",
    "print(f\"Sum of odd indices: {odd_sum_numpy}\")\n",
    "print(f\"Time taken: {numpy_time:.4f} seconds\")\n",
    "\n",
    "# Calculate speedup factor\n",
    "print(f\"\\nNumpy is {loop_time/numpy_time:.1f}x faster!\")\n",
    "\n",
    "\n",
    "\n",
    "# Additional explanation of numpy slicing syntax:\n",
    "# arr[start:stop:step] is the general form\n",
    "# If start is omitted, it defaults to 0\n",
    "# If stop is omitted, it defaults to the length of array\n",
    "# If step is omitted, it defaults to 1\n",
    "# Therefore:\n",
    "# arr[::2]  is equivalent to arr[0:len(arr):2]  - every 2nd element starting from 0\n",
    "# arr[1::2] is equivalent to arr[1:len(arr):2]  - every 2nd element starting from 1"
   ],
   "outputs": [
    {
     "name": "stdout",
     "output_type": "stream",
     "text": [
      "Let's compare different ways to sum even and odd indices\n",
      "\n",
      "Example: Sum numbers at even indices and odd indices separately\n",
      "data = [0 1 2 3 4 5 6 7 8 9] ...\n",
      "\n",
      "Results using loops:\n",
      "Sum of even indices: 249999500000\n",
      "Sum of odd indices: 250000000000\n",
      "Time taken: 0.1561 seconds\n",
      "\n",
      "Results using numpy slicing:\n",
      "Sum of even indices: 249999500000\n",
      "Sum of odd indices: 250000000000\n",
      "Time taken: 0.0011 seconds\n",
      "\n",
      "Numpy is 138.5x faster!\n"
     ]
    }
   ],
   "execution_count": 4
  },
  {
   "cell_type": "code",
   "id": "39c2fec8-c5d2-4ea6-b396-d767550574b5",
   "metadata": {
    "ExecuteTime": {
     "end_time": "2025-01-14T19:35:10.754847Z",
     "start_time": "2025-01-14T19:35:10.752618Z"
    }
   },
   "source": [],
   "outputs": [],
   "execution_count": null
  }
 ],
 "metadata": {
  "kernelspec": {
   "display_name": "Python 3 (ipykernel)",
   "language": "python",
   "name": "python3"
  },
  "language_info": {
   "codemirror_mode": {
    "name": "ipython",
    "version": 3
   },
   "file_extension": ".py",
   "mimetype": "text/x-python",
   "name": "python",
   "nbconvert_exporter": "python",
   "pygments_lexer": "ipython3",
   "version": "3.9.20"
  }
 },
 "nbformat": 4,
 "nbformat_minor": 5
}
