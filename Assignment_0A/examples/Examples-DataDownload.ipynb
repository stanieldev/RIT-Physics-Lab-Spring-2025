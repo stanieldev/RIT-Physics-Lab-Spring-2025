{
 "cells": [
  {
   "cell_type": "markdown",
   "id": "f34d9079-814a-4473-8ce5-0ec62a2d8da2",
   "metadata": {},
   "source": [
    "# Scaffolding Notebook: Loading and Handling Data Files in Python\n",
    "\n",
    "This notebook provides a minimal (and definitely non-comprehensive) introduction to loading and handling plain-text data files using Python and `numpy`.\n",
    "\n",
    "## Objectives\n",
    "1. Learn how to load plain-text data into arrays using `numpy.loadtxt`.\n",
    "2. Handle different file formats, including single-column, multi-column, and delimited data.\n"
   ]
  },
  {
   "cell_type": "markdown",
   "id": "ea19cb19-0bd0-4a5a-8556-41cd6adc314b",
   "metadata": {},
   "source": [
    "## Example 1: Loading a Single-Column Data File\n",
    "\n",
    "A single-column data file contains one value per line. For example:\n",
    "1.2 2.3 3.4 4.5 5.6\n",
    "\n",
    "\n",
    "We will simulate this file by creating and saving it, then load it into a 1D NumPy array.\n"
   ]
  },
  {
   "metadata": {
    "ExecuteTime": {
     "end_time": "2025-01-14T19:29:30.112100Z",
     "start_time": "2025-01-14T19:29:30.012414Z"
    }
   },
   "cell_type": "code",
   "source": [
    "# Create and save a single-column data file\n",
    "with open('single_column.txt', 'w') as f:\n",
    "    f.write(\"1.2\\n2.3\\n3.4\\n4.5\\n5.6\\n\")\n",
    "\n",
    "# Load the data from the file into a 1D NumPy array\n",
    "import numpy as np\n",
    "data = np.loadtxt('single_column.txt')\n",
    "print(\"Loaded single-column data:\")\n",
    "print(data)\n"
   ],
   "id": "885eee526cd07e3f",
   "outputs": [
    {
     "name": "stdout",
     "output_type": "stream",
     "text": [
      "Loaded single-column data:\n",
      "[1.2 2.3 3.4 4.5 5.6]\n"
     ]
    }
   ],
   "execution_count": 1
  },
  {
   "cell_type": "markdown",
   "id": "d80c1af5-66e0-4c1b-882e-6a2099d723e5",
   "metadata": {},
   "source": [
    "## Example 2: Loading a Multi-Column Data File\n",
    "\n",
    "A multi-column data file stores rows and columns of numbers. For example:\n"
   ]
  },
  {
   "cell_type": "code",
   "id": "333b9785-69d7-44e7-ab23-d755697495c7",
   "metadata": {
    "ExecuteTime": {
     "end_time": "2025-01-14T19:29:30.134458Z",
     "start_time": "2025-01-14T19:29:30.128605Z"
    }
   },
   "source": [
    "# Create and save a multi-column data file\n",
    "with open('multi_column.txt', 'w') as f:\n",
    "    f.write(\"1.0 2.0 3.0\\n4.0 5.0 6.0\\n7.0 8.0 9.0\\n\")\n",
    "\n",
    "# Load the data from the file into a 2D NumPy array\n",
    "data = np.loadtxt('multi_column.txt')\n",
    "print(\"Loaded multi-column data:\")\n",
    "print(data)\n"
   ],
   "outputs": [
    {
     "name": "stdout",
     "output_type": "stream",
     "text": [
      "Loaded multi-column data:\n",
      "[[1. 2. 3.]\n",
      " [4. 5. 6.]\n",
      " [7. 8. 9.]]\n"
     ]
    }
   ],
   "execution_count": 2
  },
  {
   "cell_type": "markdown",
   "id": "5aeecb28-e467-4419-8c7a-06206c9a82ee",
   "metadata": {},
   "source": [
    "## Example 3: Handling Delimited Data\n",
    "\n",
    "Some files use delimiters like commas or tabs instead of spaces. For example: 1.0,2.0,3.0 4.0,5.0,6.0 7.0,8.0,9.0\n",
    "\n",
    "We will simulate this file, save it, and load its content using the `delimiter` argument in `numpy.loadtxt`.\n"
   ]
  },
  {
   "cell_type": "code",
   "id": "cfed8d0b-9b73-4a72-ae63-2a8d8af6ae48",
   "metadata": {
    "ExecuteTime": {
     "end_time": "2025-01-14T19:29:30.333447Z",
     "start_time": "2025-01-14T19:29:30.327371Z"
    }
   },
   "source": [
    "# Create and save a comma-separated data file\n",
    "with open('comma_separated.txt', 'w') as f:\n",
    "    f.write(\"1.0,2.0,3.0\\n4.0,5.0,6.0\\n7.0,8.0,9.0\\n\")\n",
    "\n",
    "# Load the data from the file using a comma as the delimiter\n",
    "data = np.loadtxt('comma_separated.txt', delimiter=',')\n",
    "print(\"Loaded comma-separated data:\")\n",
    "print(data)\n"
   ],
   "outputs": [
    {
     "name": "stdout",
     "output_type": "stream",
     "text": [
      "Loaded comma-separated data:\n",
      "[[1. 2. 3.]\n",
      " [4. 5. 6.]\n",
      " [7. 8. 9.]]\n"
     ]
    }
   ],
   "execution_count": 3
  },
  {
   "cell_type": "code",
   "id": "3fda29d5-706a-4b50-911b-f90f6b494be3",
   "metadata": {
    "ExecuteTime": {
     "end_time": "2025-01-14T19:29:30.346298Z",
     "start_time": "2025-01-14T19:29:30.343334Z"
    }
   },
   "source": [],
   "outputs": [],
   "execution_count": null
  }
 ],
 "metadata": {
  "kernelspec": {
   "display_name": "Python 3 (ipykernel)",
   "language": "python",
   "name": "python3"
  },
  "language_info": {
   "codemirror_mode": {
    "name": "ipython",
    "version": 3
   },
   "file_extension": ".py",
   "mimetype": "text/x-python",
   "name": "python",
   "nbconvert_exporter": "python",
   "pygments_lexer": "ipython3",
   "version": "3.9.20"
  }
 },
 "nbformat": 4,
 "nbformat_minor": 5
}
