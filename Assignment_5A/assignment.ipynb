{
 "cells": [
  {
   "cell_type": "markdown",
   "metadata": {},
   "source": [
    "## Assignment 5A"
   ]
  },
  {
   "cell_type": "markdown",
   "metadata": {},
   "source": [
    "### Problem 1 (100 points)\n",
    "Consider the Schrodinger equation for a particle of mass m in the harmonic potential $V(x)=\\dfrac{V_0}{a^2}x^2$:\n",
    "$$-\\dfrac{1}{2}\\dfrac{d^2}{dx^2}\\psi(x)+V(x)\\psi(x)=E\\psi(x)$$\n",
    "where $V_0$ and $a$ are constants.\n",
    "\n",
    "After converting this second-order equation into a 2-dimensional first-order equation, write a program to solve this system using the shooting method and the 4th-order Runge-Kutta (RK4) method.\n",
    "\n",
    "As explained in class, you will need to write a program to find the energies, starting with an initial guess for the energy and use a root-finding method to refine the guess until you find accurate values.\n",
    "\n",
    "We can convert the system into the following:\n",
    "$$\\dfrac{d^2\\psi(x)}{dx^2}=2(V(x)-E)\\psi(x)$$\n",
    "Writing it as a system of first order, we get:\n",
    "$$\\begin{align}\n",
    "\\dfrac{d\\psi(x)}{dx}&=\\phi(x)\\\\\n",
    "\\dfrac{d\\phi(x)}{dx}&=2(V(x)-E)\\psi(x)\n",
    "\\end{align}$$\n",
    "\n",
    "The external conditions would require that:\n",
    "$$\\lim_{x\\rightarrow \\pm Na}\\psi(x)=0$$\n",
    "Which we'll extend for larger values of $N$ to recover the true wavefunction later."
   ]
  },
  {
   "cell_type": "markdown",
   "metadata": {},
   "source": [
    "#### Problem 1.A (30 points)\n",
    "Start from one of the boundaries — in a similar fashion as in the example of the infinite square well, discussed in class. Set the value of $N$, controlling the size of the box, to be sufficiently large that the eigenfunctions and eigenvalues you aim to calculate are converged to satisfactory accuracy. Start from $N = 2$, then $N = 3, 4, $ etc... What happens?"
   ]
  },
  {
   "cell_type": "code",
   "execution_count": 2,
   "metadata": {},
   "outputs": [
    {
     "name": "stdout",
     "output_type": "stream",
     "text": [
      "0.7071067824382516\n",
      "[0.7071067811865476, 2.121320343559643, 3.5355339059327378, 4.949747468305833, 6.3639610306789285, 7.778174593052023, 9.19238815542512, 10.606601717798213, 12.020815280171309, 13.435028842544403]\n"
     ]
    },
    {
     "data": {
      "image/png": "[encoded data removed]",
      "text/plain": [
       "<Figure size 640x480 with 1 Axes>"
      ]
     },
     "metadata": {},
     "output_type": "display_data"
    }
   ],
   "source": [
    "import numpy as np\n",
    "\n",
    "\n",
    "def continuous_runge_kutta_method_function(\n",
    "    f: callable,\n",
    "    t0: float | int,\n",
    "    x0: float | int | np.ndarray | tuple | list,\n",
    "    dt: float | int,\n",
    "    tf: float | int\n",
    ") -> tuple[np.ndarray, np.ndarray]:\n",
    "    \"\"\"\n",
    "    Runge-Kutta Method for solving ordinary differential equations.\n",
    "    This function solves the ODE using the Runge-Kutta Method and returns the time and value arrays.\n",
    "    \n",
    "    Parameters:\n",
    "        f: callable - The function equal to the derivative of the unknown function\n",
    "        t0: float | int - The initial time\n",
    "        x0: float | int - The initial value(s)\n",
    "        dt: float | int - The time step\n",
    "        tf: float | int - The final time\n",
    "\n",
    "    Returns:\n",
    "        tuple[np.ndarray, np.ndarray] - The time and value arrays\n",
    "    \"\"\"\n",
    "\n",
    "    # Input Checking\n",
    "    assert callable(f)\n",
    "    assert isinstance(t0, (int, float))\n",
    "    assert isinstance(x0, (int, float, np.ndarray, tuple, list))\n",
    "    assert isinstance(dt, (int, float))\n",
    "    assert isinstance(tf, (int, float))\n",
    "\n",
    "    # Implementation\n",
    "    T = np.arange(t0, tf+dt, dt)\n",
    "    x = [x0]\n",
    "    for t in T[:-1]:\n",
    "        k1 = f(t       , x[-1]          )\n",
    "        k2 = f(t + dt/2, x[-1] + k1*dt/2)\n",
    "        k3 = f(t + dt/2, x[-1] + k2*dt/2)\n",
    "        k4 = f(t + dt  , x[-1] + k3*dt  )\n",
    "        x.append(x[-1] + (k1 + 2*k2 + 2*k3 + k4)*dt/6)\n",
    "    return T, x\n",
    "def continuous_secant_method_value(*,\n",
    "    f: callable, \n",
    "    x0: int | float, \n",
    "    x1: int | float, \n",
    "    error: int | float, \n",
    "    max_iter: int\n",
    ") -> float:\n",
    "    \"\"\"\n",
    "    Secant Method for Continuous Functions (Single Variable)\n",
    "    Returns the value of x that is the root of the function\n",
    "\n",
    "    Parameters\n",
    "    ----------\n",
    "    f : callable\n",
    "        The function to find the root of\n",
    "    x0 : int | float\n",
    "        The first guess of the root\n",
    "    x1 : int | float\n",
    "        The second guess of the root\n",
    "    error : int | float\n",
    "        The error tolerance\n",
    "    max_iter : int\n",
    "        The maximum number of iterations\n",
    "\n",
    "    Returns\n",
    "    -------\n",
    "    float\n",
    "        The value of x that is the root of the function\n",
    "    \"\"\"\n",
    "\n",
    "    # Type Checking\n",
    "    assert callable(f)\n",
    "    assert isinstance(x0, (int, float))\n",
    "    assert isinstance(x1, (int, float))\n",
    "    assert x0 != x1, \"Guesses x0 and x1 cannot be the same\"\n",
    "    assert isinstance(error, (int, float))\n",
    "    assert error > 0\n",
    "    assert isinstance(max_iter, int)\n",
    "    assert max_iter > 0\n",
    "\n",
    "    # Implementation\n",
    "    for _ in range(max_iter):\n",
    "        x2 = x1 - f(x1) * (x1 - x0) / (f(x1) - f(x0))\n",
    "        if np.abs(x2 - x1) < error:\n",
    "            return x2\n",
    "        x0, x1 = x1, x2\n",
    "    else:\n",
    "        return x2\n",
    "\n",
    "\n",
    "# Problem Parameters\n",
    "V0, A = 1, 1\n",
    "V: callable = lambda x: V0 * x**2 / A**2\n",
    "N = 4\n",
    "x0: float = 0\n",
    "psi0: np.ndarray = np.array([1, 0])\n",
    "\n",
    "# Wavefunction ODE\n",
    "minimized_energy = continuous_secant_method_value(\n",
    "    f=lambda E: continuous_runge_kutta_method_function(\n",
    "        lambda x, psi: np.array([psi[1], 2*(V(x)-E)*psi[0]]),\n",
    "        t0=x0, x0=psi0, dt=0.01, tf=N*A\n",
    "    )[1][-1][0],\n",
    "    x0=0.2,\n",
    "    x1=0.4,\n",
    "    error=1e-6,\n",
    "    max_iter=1000\n",
    ")\n",
    "print(minimized_energy)\n",
    "\n",
    "# Find the wavefunction\n",
    "val = continuous_runge_kutta_method_function(\n",
    "    f=lambda x, psi: np.array([psi[1], 2*(V(x)-minimized_energy)*psi[0]]),\n",
    "    t0=x0, x0=psi0, dt=0.01, tf=N*A\n",
    ")\n",
    "\n",
    "# Analytical Solution\n",
    "true_energies = [float((0.5+n)*np.sqrt(2*V0)/A) for n in range(10)]\n",
    "print(true_energies)\n",
    "\n",
    "# Plot the results\n",
    "import matplotlib.pyplot as plt\n",
    "plt.plot(val[0], [v[0] for v in val[1]], color=\"blue\")\n",
    "plt.plot(-val[0], [v[0] for v in val[1]], color=\"blue\")\n",
    "plt.xlabel(\"x\")\n",
    "plt.ylabel(\"psi(x)\")\n",
    "plt.title(\"Wavefunction\")\n",
    "plt.show()\n"
   ]
  },
  {
   "cell_type": "markdown",
   "metadata": {},
   "source": [
    "What’s the the problem you observe if N is too small?\n",
    "> When $N$ is too small, the energy value I get is much higher. For example, when I set $N=1$, I get a ground-state energy of 1.3621, which is much higher than 0.3536. For smaller values of $N$ the energy value becomes orders of magnitude higher, which makes sense since we're measuring less of the interval.\n",
    "\n",
    "What’s the problem you observe if N is too large?\n",
    "> After about the 7th digit for energy, the value converges pretty much as close as it will, and doesn't really get any closer to the true value.\n",
    "> The wavefunction also starts to have some really odd behavior like being extremely huge despite the identical energy. The example of $N=10$ made the wavefunction drop super negative far out from the origin.\n",
    "\n",
    "Why are the so-obtained wavefunctions very large in absolute value (before to be normalized, as asked below in point c)?\n",
    "> At large values of $N$, the differential equation eventually dips below the x-axis and starts to increase in magnitude more and more.\n",
    "> It also happens when it doesn't drop hugely, and that's due to the nature of the approximation adding more area under larger $N$."
   ]
  },
  {
   "cell_type": "markdown",
   "metadata": {},
   "source": [
    "#### Problem 1.B (20 points)\n",
    "Compare your numerical energy eigenvalues with the exact solutions given in the lecture:\n",
    "$$\\begin{align}\n",
    "E_n&=\\left(n+\\dfrac{1}{2}\\right)\\omega &\n",
    "\\omega&=\\sqrt{\\dfrac{2V_0}{a^2}}\n",
    "\\end{align}$$\n",
    "\n",
    "Using the code from above to approximate the wavefunction energy, we can see that:\n",
    "\n",
    "| State | Eigenvalue | $N=2$ | $N=3$ | $N=4$ |\n",
    "| ----- | ----- | ----- | ----- | ----- |\n",
    "| GS | 0.7071067811865476 | 0.7190949697440874 | 0.70712294274875 | 0.7071067824382516 |\n",
    "| 1st excited  | 2.121320343559643 | 2.2340178098341923 | 2.1216938947777417 | 2.1213203931792384 |\n",
    "| 2nd excited  | 3.5355339059327378 |4.01286843444438 | 3.539428062916954 | 3.5355348909228477 |\n",
    "\n"
   ]
  },
  {
   "cell_type": "markdown",
   "metadata": {},
   "source": [
    "#### Problem 1.C (20 points)\n",
    "Normalize your wavefunctions by evaluating the integral:\n",
    "$$I=\\int |\\psi(x)|^2 dx$$\n",
    "and rescale $\\psi(x)$ so that $I = 1$. Either the trapezoidal rule or Simpson’s rule will give a reasonable approximation for the integral. Once your wavefunctions are normalized, plot them in comparison with the exact analytical solutions provided in class, and discuss how well your numerical approximations match the exact solutions."
   ]
  },
  {
   "cell_type": "code",
   "execution_count": 3,
   "metadata": {},
   "outputs": [
    {
     "name": "stdout",
     "output_type": "stream",
     "text": [
      "Calculated Energy: 2.1213203931792384\n",
      "Normalization Integral: 0.26347680922271083\n",
      "Normalized Integral: 1.0\n",
      "True Energies: [0.7071067811865476, 2.121320343559643, 3.5355339059327378, 4.949747468305833, 6.3639610306789285, 7.778174593052023, 9.19238815542512, 10.606601717798213, 12.020815280171309, 13.435028842544403]\n"
     ]
    },
    {
     "data": {
      "image/png": "[encoded data removed]",
      "text/plain": [
       "<Figure size 640x480 with 1 Axes>"
      ]
     },
     "metadata": {},
     "output_type": "display_data"
    }
   ],
   "source": [
    "# Problem Parameters\n",
    "V0, A = 1, 1\n",
    "V: callable = lambda x: V0 * x**2 / A**2\n",
    "N = 4\n",
    "x0: float = 0\n",
    "\n",
    "# Choice of wavefunction (config box)\n",
    "EVEN_QUANTUM_NUMBER = False\n",
    "ENERGY_1 = 0.2\n",
    "ENERGY_2 = 0.4\n",
    "if EVEN_QUANTUM_NUMBER:\n",
    "    psi0: np.ndarray = np.array([1, 0])\n",
    "else:\n",
    "    psi0: np.ndarray = np.array([0, 1])\n",
    "\n",
    "# Wavefunction ODE\n",
    "minimized_energy = continuous_secant_method_value(\n",
    "    f=lambda E: continuous_runge_kutta_method_function(\n",
    "        lambda x, psi: np.array([psi[1], 2*(V(x)-E)*psi[0]]),\n",
    "        t0=x0, x0=psi0, dt=0.01, tf=N*A\n",
    "    )[1][-1][0],\n",
    "    x0=ENERGY_1,\n",
    "    x1=ENERGY_2,\n",
    "    error=1e-6,\n",
    "    max_iter=1000\n",
    ")\n",
    "print(f\"Calculated Energy: {minimized_energy}\")\n",
    "\n",
    "# Find the wavefunction\n",
    "val = continuous_runge_kutta_method_function(\n",
    "    f=lambda x, psi: np.array([psi[1], 2*(V(x)-minimized_energy)*psi[0]]),\n",
    "    t0=x0, x0=psi0, dt=0.01, tf=N*A\n",
    ")\n",
    "\n",
    "# Integrate the wavefunction to normalize it\n",
    "integral = np.trapezoid([v[0]**2 for v in val[1]], x=val[0])\n",
    "print(f\"Integral Area: {integral}\")\n",
    "new_y = np.array([v[0]/np.sqrt(integral) for v in val[1]])\n",
    "\n",
    "# Verify normalization\n",
    "integral = np.trapezoid([v**2 for v in new_y], x=val[0])\n",
    "print(f\"Normalized Integral (Must be 1): {integral}\")\n",
    "\n",
    "# Analytical Solution\n",
    "true_energies = [float((0.5+n)*np.sqrt(2*V0)/A) for n in range(10)]\n",
    "print(f\"True Energies: {true_energies}\")\n",
    "\n",
    "# Plot the results\n",
    "import matplotlib.pyplot as plt\n",
    "plt.plot(val[0], new_y, color=\"blue\")\n",
    "plt.plot(-val[0], (-1 if not EVEN_QUANTUM_NUMBER else 1)*new_y, color=\"blue\")\n",
    "plt.xlabel(\"x\")\n",
    "plt.ylabel(\"psi(x)\")\n",
    "plt.title(\"Wavefunction\")\n",
    "plt.show()"
   ]
  },
  {
   "cell_type": "markdown",
   "metadata": {},
   "source": [
    "#### Problem 1.D (30 points) \n",
    "The harmonic oscillator potential is symmetric, meaning $V (x) = V (−x)$. Consequently, as explained in class, the solutions will either be even ($\\psi(x) = \\psi(−x)$) or odd ($\\psi(x) =−\\psi(−x)$).\n",
    "\n",
    "You can take advantage of this symmetry to simplify your numerical calculations, calculating the wavefunction over only for half of the system, starting the RK4 integration from appropriate (parity-dependent) initial conditions at the origin, as explained in class.\n",
    "\n",
    "Repeat all calculations above using this method (you don’t need to normalize the solution).\n",
    "\n",
    "Are the so-obtained wavefunctions still very large in absolute value (before to be normalized)? Why?"
   ]
  },
  {
   "cell_type": "markdown",
   "metadata": {},
   "source": [
    "> Similar reasons as above. Also, I had already implemented the symmetry in my simulation above since it was apparent from the equation of motion of the system.\n",
    "> The solutions are still large since the area scales with the area under the curve in $N$ early."
   ]
  }
 ],
 "metadata": {
  "kernelspec": {
   "display_name": "Python 3",
   "language": "python",
   "name": "python3"
  },
  "language_info": {
   "codemirror_mode": {
    "name": "ipython",
    "version": 3
   },
   "file_extension": ".py",
   "mimetype": "text/x-python",
   "name": "python",
   "nbconvert_exporter": "python",
   "pygments_lexer": "ipython3",
   "version": "3.13.1"
  }
 },
 "nbformat": 4,
 "nbformat_minor": 2
}
