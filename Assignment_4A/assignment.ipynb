{
 "cells": [
  {
   "cell_type": "markdown",
   "metadata": {},
   "source": [
    "## Assignment 4A"
   ]
  },
  {
   "cell_type": "markdown",
   "metadata": {},
   "source": [
    "### Problem 1 (50 points)\n",
    "Wien’s displacement constant. Planck’s radiation law tells us that the intensity of radiation per unit area and per unit wavelength $\\lambda$ from a black body at temperature $T$ is:\n",
    "$$I(\\lambda)=\\dfrac{2\\pi hc^2}{\\lambda^5}\\dfrac{1}{e^{hc/\\lambda k_BT}-1}$$\n",
    "where $h$ is Planck’s constant, $c$ is the speed of light, and $k_B$ is Boltzmann’s constant.\n",
    "\n",
    "---"
   ]
  },
  {
   "cell_type": "markdown",
   "metadata": {},
   "source": [
    "#### Problem 1.A (10 points)\n",
    "Show by differentiating that the wavelength $\\lambda$ at which the emitted radiation is strongest is the solution of the equation:\n",
    "$$5e^{-hc/\\lambda k_BT}+\\dfrac{hc}{\\lambda k_BT}-5=0$$\n",
    "Make the substitution $x=\\dfrac{hc}{\\lambda k_BT}$ and hence show that the wavelength of maximum radiation obeys the Wien displacement law:\n",
    "$$\\lambda=\\dfrac{b}{T}$$\n",
    "where the so-called Wien displacement constant is\n",
    "$$b=\\dfrac{hc}{k_Bx}$$\n",
    "and x is the solution to the nonlinear equation\n",
    "$$5e^{-x}+x-5$$"
   ]
  },
  {
   "cell_type": "markdown",
   "metadata": {},
   "source": [
    "$$\\begin{align}\n",
    "I(\\lambda)&=2\\pi hc^2\\lambda^{-5}\\left(e^{hc/\\lambda k_BT}-1\\right)^{-1}\\\\\n",
    "I_\\lambda(\\lambda)&=2\\pi hc^2\\cdot\\dfrac{d}{d\\lambda}\\left(\\lambda^{-5}\\left(e^{hc/\\lambda k_BT}-1\\right)^{-1}\\right)\\\\\n",
    "&=2\\pi hc^2\\cdot\\dfrac{d}{d\\lambda}\\left(\\lambda^{-5}\\right)\\cdot\\left(e^{hc/\\lambda k_BT}-1\\right)^{-1}+2\\pi hc^2\\cdot\\lambda^{-5}\\cdot\\dfrac{d}{d\\lambda}\\left(e^{hc/\\lambda k_BT}-1\\right)^{-1}\\\\\n",
    "&=2\\pi hc^2\\cdot\\left(-\\dfrac{5}{\\lambda}\\right)\\left(\\lambda^{-5}\\cdot\\left(e^{hc/\\lambda k_BT}-1\\right)^{-1}\\right)+2\\pi hc^2\\cdot\\lambda^{-5}\\cdot(-1)\\left(e^{hc/\\lambda k_BT}-1\\right)^{-2}\\dfrac{d}{d\\lambda}\\left(e^{hc/\\lambda k_BT}-1\\right)\\\\\n",
    "0&=\\left(-\\dfrac{5}{\\lambda}\\right)I(\\lambda)+(-1)\\left(e^{hc/\\lambda k_BT}-1\\right)^{-1}\\dfrac{d}{d\\lambda}\\left(e^{hc/\\lambda k_BT}-1\\right)I(\\lambda)\\\\\n",
    "0&=\\left(\\dfrac{5}{\\lambda}\\right)+\\left(e^{hc/\\lambda k_BT}-1\\right)^{-1}\\left(e^{hc/\\lambda k_BT}\\right)\\dfrac{d}{d\\lambda}\\left( \\dfrac{hc}{k_BT}\\dfrac{1}{\\lambda}\\right)\\\\\n",
    "0&=\\left(\\dfrac{5}{\\lambda}\\right)-\\left(e^{hc/\\lambda k_BT}-1\\right)^{-1}\\left(e^{hc/\\lambda k_BT}\\right)\\left( \\dfrac{hc}{k_BT}\\dfrac{1}{\\lambda^2}\\right)\\\\\n",
    "0&=5\\left(e^{hc/\\lambda k_BT}-1\\right)-\\left(e^{hc/\\lambda k_BT}\\right)\\left( \\dfrac{hc}{\\lambda k_BT}\\right)\\\\\n",
    "0&=5e^{hc/\\lambda k_BT}-5-\\left(e^{hc/\\lambda k_BT}\\right)\\left( \\dfrac{hc}{\\lambda k_BT}\\right)\\\\\n",
    "0&=5-5e^{-hc/\\lambda k_BT}-\\left( \\dfrac{hc}{\\lambda k_BT}\\right)\\\\\n",
    "0&=5e^{-hc/\\lambda k_BT}+\\dfrac{hc}{\\lambda k_BT}-5\n",
    "\\end{align}$$\n",
    "---"
   ]
  },
  {
   "cell_type": "markdown",
   "metadata": {},
   "source": [
    "#### Problem 1.B (35 points)\n",
    "Write a program to solve this equation to an accuracy of $10^{−6}$ using the binary search method, and hence find a value for the displacement constant."
   ]
  },
  {
   "cell_type": "code",
   "execution_count": 3,
   "metadata": {},
   "outputs": [
    {
     "name": "stdout",
     "output_type": "stream",
     "text": [
      "Error is less than 1e-06\n",
      "Number of iterations: 18\n",
      "The solution is: 4.965114593505859\n"
     ]
    }
   ],
   "source": [
    "import numpy as np\n",
    "\n",
    "# Binary partition method\n",
    "def bisection_method(f: callable, a: int | float, b: int | float, *, error: int | float, max_iter: int) -> float:\n",
    "    assert callable(f)\n",
    "    assert isinstance(a, (int, float))\n",
    "    assert isinstance(b, (int, float))\n",
    "    assert isinstance(error, (int, float))\n",
    "    assert isinstance(max_iter, int)\n",
    "    assert a < b\n",
    "    assert f(a) * f(b) < 0\n",
    "    for _ in range(max_iter):\n",
    "        c = (a + b) / 2\n",
    "        if np.abs(f(c)) < error:\n",
    "            print(f\"Error is less than {error}\")\n",
    "            print(f\"Number of iterations: {_}\")\n",
    "            return c\n",
    "        if f(a) * f(c) < 0:\n",
    "            b = c\n",
    "        else:\n",
    "            a = c\n",
    "    print(f\"Error is greater than {error}\")\n",
    "    print(f\"Number of iterations: {max_iter}\")\n",
    "    return c\n",
    "\n",
    "# Problem data\n",
    "f: callable = lambda x: 5*np.exp(-x) + x - 5\n",
    "A = 4\n",
    "B = 6\n",
    "error = 1e-6\n",
    "max_iter = 10_000\n",
    "\n",
    "# Solve the problem\n",
    "val = bisection_method(f, A, B, error=error, max_iter=max_iter)\n",
    "\n",
    "# Output\n",
    "print(f\"The solution is: {val}\")"
   ]
  },
  {
   "cell_type": "markdown",
   "metadata": {},
   "source": [
    "The solution I got was $4.965114593505859$ from the equation given above.\n",
    "\n",
    "---"
   ]
  },
  {
   "cell_type": "markdown",
   "metadata": {},
   "source": [
    "#### Problem 1.C (5 points)\n",
    "The displacement law is the basis for the method of optical pyrometry, a method for measuring the temperatures of objects by observing the color of the thermal radiation they emit. The method is commonly used to estimate the surface temperatures of astronomical bodies, such as the Sun. The wavelength peak in the Sun’s emitted radiation falls at $\\lambda=502\\text{nm}$. From the equations above and your value of the displacement constant, estimate the surface temperature of the Sun.\n",
    "$$\\begin{align}\n",
    "x&=4.965114593505859\\\\\n",
    "b&=\\dfrac{hc}{k_B}\\dfrac{1}{x}\\\\\n",
    "&=0.01439\\text{ m}\\cdot\\text{K}\\dfrac{1}{4.965\\dots}\\\\\n",
    "b&=0.00289784\\text{ m}\\cdot\\text{K}\n",
    "\\end{align}$$\n",
    "Using this value of the Wien displacement constant, we can see that:\n",
    "$$\\begin{align}\n",
    "&&\\lambda &= 502\\cdot10^{-9}\\text{ m}\\\\\n",
    "&&b&=0.00289784\\text{ m}\\cdot\\text{K}\\\\\n",
    "\\implies&&T&=\\dfrac{0.00289784\\text{ m}\\cdot\\text{K}}{502\\cdot10^{-9}\\text{ m}}\\\\\n",
    "&&T&=5772.58964143\\text{ K}\n",
    "\\end{align}$$\n",
    "---"
   ]
  },
  {
   "cell_type": "markdown",
   "metadata": {},
   "source": [
    "### Problem 2 (50 points)\n",
    "The Lagrange point. There is a special point between the Earth and the Moon, called the L1 Lagrange point, at which a satellite will orbit the Earth in perfect synchrony with the Moon, staying always in between the two. This works because the inward pull of the Earth and the outward pull of the Moon combine to create exactly the needed centripetal force that keeps the satellite in its orbit.\n",
    "\n",
    "Assuming circular orbits, and assuming that the Earth is much more massive than either the Moon or the satellite, show that the distance r from the center of the Earth to the L1 point satisfies:\n",
    "$$\\dfrac{GM}{r^2}-\\dfrac{Gm}{(R-r)^2}=\\omega^2 r$$\n",
    "where $M$ and $m$ are the Earth and Moon masses, $G$ is Newton’s gravitational constant, and $\\omega$ is the angular velocity of both the Moon and the satellite.\n",
    "\n",
    "The equation above is a fifth-order polynomial equation in $r$ (also called a quintic equation). Such equations cannot be solved exactly in closed form, but it’s straightforward to solve them numerically. Write a program that uses the secant method to solve for the distance $r$ from the Earth to the $L_1$ point. Compute a solution accurate to at least four significant digits. The values of the various parameters are:\n",
    "$$\\begin{align}\n",
    "G&=6.674\\cdot10^{-11}\\text{ m}^3\\text{ kg}^{-1}\\text{s}^{-2}\\\\\n",
    "M&=5.974\\cdot10^{24}\\text{ kg}\\\\\n",
    "m&=7.348\\cdot10^{22}\\text{ kg}\\\\\n",
    "R&=3.844\\cdot10^{8}\\text{ m}\\\\\n",
    "\\omega&=2.662\\cdot10^{-6}\\text{ s}^{-1}\n",
    "\\end{align}$$"
   ]
  },
  {
   "cell_type": "code",
   "execution_count": 5,
   "metadata": {},
   "outputs": [
    {
     "name": "stdout",
     "output_type": "stream",
     "text": [
      "Error is less than 1e-06\n",
      "Number of iterations: 17\n",
      "The solution is: r=326029262.49331266\n"
     ]
    }
   ],
   "source": [
    "import numpy as np\n",
    "\n",
    "# Function Definitoon\n",
    "def secant_method(*, f: callable, x0: int | float, x1: int | float, error: int | float, max_iter: int) -> float:\n",
    "    assert callable(f)\n",
    "    assert isinstance(x0, (int, float))\n",
    "    assert isinstance(x1, (int, float))\n",
    "    assert isinstance(error, (int, float))\n",
    "    assert isinstance(max_iter, int)\n",
    "    assert error > 0\n",
    "    assert max_iter > 0\n",
    "    for _ in range(max_iter):\n",
    "        x2 = x1 - f(x1) * (x1 - x0) / (f(x1) - f(x0))\n",
    "        if np.abs(x2 - x1) < error:\n",
    "            print(f\"Error is less than {error}\")\n",
    "            print(f\"Number of iterations: {_}\")\n",
    "            return x2\n",
    "        x0, x1 = x1, x2\n",
    "    print(f\"Error is greater than {error}\")\n",
    "    print(f\"Number of iterations: {max_iter}\")\n",
    "    return x2\n",
    "\n",
    "# Problem data\n",
    "G = 6.674e-11  # Gravitational constant\n",
    "M = 5.972e24   # Earth mass\n",
    "m = 7.348e22   # Moon mass\n",
    "R = 3.844e8    # Distance between Earth and Moon\n",
    "w = 2.662e-6   # Angular velocity of the Moon\n",
    "\n",
    "# Function definition\n",
    "f: callable = lambda r: G * M / r**2 - G * m / (R - r)**2 - r * w**2\n",
    "\n",
    "# Initial guess\n",
    "X0 = 1e7\n",
    "X1 = 1.5e7\n",
    "\n",
    "# Solve the problem\n",
    "val = secant_method(f=f, x0=X0, x1=X1, error=1e-6, max_iter=10_000)\n",
    "print(f\"The solution is: r={val}\")"
   ]
  },
  {
   "cell_type": "markdown",
   "metadata": {},
   "source": [
    "From my calculation, I found that the object would need to be $3.2603\\cdot10^8\\text{ m}$ away from Earth in order to stay in-place."
   ]
  }
 ],
 "metadata": {
  "kernelspec": {
   "display_name": "Python 3",
   "language": "python",
   "name": "python3"
  },
  "language_info": {
   "codemirror_mode": {
    "name": "ipython",
    "version": 3
   },
   "file_extension": ".py",
   "mimetype": "text/x-python",
   "name": "python",
   "nbconvert_exporter": "python",
   "pygments_lexer": "ipython3",
   "version": "3.13.1"
  }
 },
 "nbformat": 4,
 "nbformat_minor": 2
}
