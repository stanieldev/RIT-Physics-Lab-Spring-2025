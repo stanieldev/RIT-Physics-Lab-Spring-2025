{
 "cells": [
  {
   "cell_type": "markdown",
   "metadata": {},
   "source": [
    "## Assignment 5B"
   ]
  },
  {
   "cell_type": "markdown",
   "metadata": {},
   "source": [
    "### Problem 1 (100 Points)\n",
    "Anharmonic Oscillator. Consider the Schrodinger equation for a particle of mass m in the anharmonic potential $V(x)=V_0\\tfrac{x^4}{a^4}$:\n",
    "$$-\\dfrac{1}{2}\\dfrac{d^2\\psi(x)}{dx^2}+V(x)\\psi(x)=E\\psi(x)$$\n",
    "where $V_0$ and $a$ are constants. For simplicity, in this exercise set $\\tfrac{V_0}{a^4}=\\tfrac{1}{2}$.\n",
    "\n",
    "After converting this second-order equation into a 2-dimensional first-order equation, write a program to solve this system using the shooting method and the 4th-order Runge-Kutta (RK4) method.\n",
    "\n",
    "As explained in class, you will need to write a program to find the energies, starting with an initial guess for the energy and using a root-finding method to refine the guess until you find accurate values.\n",
    "\n",
    "We can write the differential equation as:\n",
    "$$\\begin{align}\n",
    "-\\dfrac{1}{2}\\dfrac{d^2\\psi(x)}{dx^2}+\\dfrac{1}{2}x^4\\psi(x)&=E\\psi(x)\\\\\n",
    "\\dfrac{d^2\\psi(x)}{dx^2}-x^4\\psi(x)&=-2E\\psi(x)\\\\\n",
    "\\dfrac{d^2\\psi(x)}{dx^2}&=\\left(x^4-2E\\right)\\psi(x)\\\\\n",
    "\\end{align}$$\n",
    "Converting into 2 differential equations, we get:\n",
    "$$\\begin{align}\n",
    "\\dfrac{d\\psi(x)}{dx}&=\\phi(x)\\\\\n",
    "\\dfrac{d\\phi(x)}{dx}&=\\left(x^4-2E\\right)\\psi(x)\\\\\n",
    "\\end{align}$$"
   ]
  },
  {
   "cell_type": "markdown",
   "metadata": {},
   "source": [
    "#### Problem 1.A (30 Points)\n",
    "Use Simpson’s method to calculate the relevant numerical integral in the WKB\n",
    "formula:\n",
    "$$B=\\int_{-1}^1\\sqrt{1-s^4}\\ ds$$\n",
    "and obtain the corresponding WKB approximations to the eigenvalues:\n",
    "$$E_n\\sim\\dfrac{1}{2}\\left(\\pi\\dfrac{n+\\tfrac{1}{2}}{B}\\right)^\\tfrac{4}{3}$$\n",
    "**Hint:** Note that the integrand of $B$ is relatively steep near the integration boundaries. Make sure to use a sufficiently tight mesh to have at least $4$ significant digits of accuracy in the eigenvalues, for $n = 0, 1, ..., 6$."
   ]
  },
  {
   "cell_type": "code",
   "execution_count": 3,
   "metadata": {},
   "outputs": [
    {
     "name": "stdout",
     "output_type": "stream",
     "text": [
      "B=1.7480383686\n",
      "WKB_energy(0)=0.4335726635\n",
      "WKB_energy(1)=1.8759599631\n",
      "WKB_energy(2)=3.7069941290\n",
      "WKB_energy(3)=5.8057626767\n",
      "WKB_energy(4)=8.1168073520\n",
      "WKB_energy(5)=10.6068266870\n",
      "WKB_energy(6)=13.2531677648\n"
     ]
    }
   ],
   "source": [
    "import numpy as np\n",
    "\n",
    "def simpson(f: callable,\n",
    "            a: float|int,\n",
    "            b: float|int, *,\n",
    "            dx: float|int|None = None,\n",
    "            N: int|None = None\n",
    "            ) -> float:\n",
    "    # Function requirements\n",
    "    assert callable(f)\n",
    "    assert isinstance(a, (int, float))\n",
    "    assert isinstance(b, (int, float))\n",
    "    assert N is not None or dx is not None\n",
    "    assert not (N is not None and dx is not None)\n",
    "    if N is not None: assert isinstance(N, int)\n",
    "    if dx is not None: assert isinstance(dx, (int, float))\n",
    "\n",
    "    # Calculate the integral\n",
    "    if N is not None:\n",
    "        x = np.linspace(a, b, N+1)\n",
    "        return np.sum(f(x[:-2:2]) + 4*f(x[1:-1:2]) + f(x[2::2])) * (b-a)/(3*N)\n",
    "    elif dx is not None:\n",
    "        x = np.arange(a, b+dx, dx)\n",
    "        return np.sum(f(x[:-2:2]) + 4*f(x[1:-1:2]) + f(x[2::2])) * dx/3\n",
    "    else:\n",
    "        raise Exception(\"Something went wrong...\")\n",
    "\n",
    "def WKB_energy(n: int) -> float:\n",
    "    B = simpson(lambda x: np.sqrt(1-x**4), -1, 1, N=1_000_000)\n",
    "    internal = np.pi*(n + 1/2)/B\n",
    "    return (1/2) * internal**(4/3)\n",
    "\n",
    "B = simpson(lambda x: np.sqrt(1-x**4), -1, 1, N=1_000_000)\n",
    "print(f\"{B=:.10f}\")\n",
    "print(f\"{WKB_energy(0)=:.10f}\")\n",
    "print(f\"{WKB_energy(1)=:.10f}\")\n",
    "print(f\"{WKB_energy(2)=:.10f}\")\n",
    "print(f\"{WKB_energy(3)=:.10f}\")\n",
    "print(f\"{WKB_energy(4)=:.10f}\")\n",
    "print(f\"{WKB_energy(5)=:.10f}\")\n",
    "print(f\"{WKB_energy(6)=:.10f}\")"
   ]
  },
  {
   "cell_type": "markdown",
   "metadata": {},
   "source": [
    "#### Problem 1.B (50 Points)\n",
    "Start from one of the boundaries—in a similar fashion as in the example of the\n",
    "infinite square well discussed in class. Calculate the eigenfunctions and the eigenvalues of the problem for $n = 0, 1, ..., 6$ (for simplicity, you are not required to normalize the wavefunctions in this exercise)."
   ]
  },
  {
   "cell_type": "code",
   "execution_count": null,
   "metadata": {},
   "outputs": [],
   "source": []
  },
  {
   "cell_type": "markdown",
   "metadata": {},
   "source": [
    "#### Problem 1.C (20 Points)\n",
    "Compare your numerical energy eigenvalues with the WKB energies and plot the\n",
    "results as a function of the excitation number $n$. Discuss the agreement as a function of $n$."
   ]
  },
  {
   "cell_type": "code",
   "execution_count": null,
   "metadata": {},
   "outputs": [],
   "source": []
  }
 ],
 "metadata": {
  "kernelspec": {
   "display_name": "Python 3",
   "language": "python",
   "name": "python3"
  },
  "language_info": {
   "codemirror_mode": {
    "name": "ipython",
    "version": 3
   },
   "file_extension": ".py",
   "mimetype": "text/x-python",
   "name": "python",
   "nbconvert_exporter": "python",
   "pygments_lexer": "ipython3",
   "version": "3.13.1"
  }
 },
 "nbformat": 4,
 "nbformat_minor": 2
}
