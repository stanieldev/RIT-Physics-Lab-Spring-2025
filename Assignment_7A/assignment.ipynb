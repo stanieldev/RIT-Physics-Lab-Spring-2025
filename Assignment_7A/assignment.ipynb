{
 "cells": [
  {
   "cell_type": "markdown",
   "metadata": {},
   "source": [
    "## Assignment 7A"
   ]
  },
  {
   "cell_type": "markdown",
   "metadata": {},
   "source": [
    "### Problem Details\n",
    "Thermal diffusion in the Earth’s crust (FTCS).\n",
    "\n",
    "#### Equation of Motion\n",
    "$$\\dfrac{\\partial T}{\\partial t}=D\\dfrac{\\partial^2 T}{\\partial x^2}$$\n",
    "where $D = 0.1\\text{m}^2\\ \\text{day}^{-1}$ in this problem.\n",
    "\n",
    "#### Boundary Conditions\n",
    "$$\\begin{align}\n",
    "T_\\text{surf}(t,0\\text{m})&=A+B\\sin\\left(\\dfrac{2\\pi t}{\\tau}\\right)\\\\\n",
    "T_\\text{deep}(t,20\\text{m})&=11^\\circ C\n",
    "\\end{align}$$\n",
    "where $\\tau = 365$ days, $A = 10^\\circ C$, and $B = 12^\\circ C$.\n",
    "\n",
    "#### Initial Condition\n",
    "$$\\begin{align}\n",
    "T(x,0) &= T^0_\\text{surf} + (T^0_\\text{deep} − T^0_\\text{surf})\\dfrac{x}{20}\n",
    "\\end{align}$$\n",
    "\n",
    "#### Finite Approximation of EoM\n",
    "We can write the differentials as finite differences:\n",
    "$$\\begin{align}\n",
    "\\dfrac{\\partial^2T}{\\partial x^2}&\\approx\\dfrac{T(t,x+\\Delta x)-2T(t,x)+T(t,x-\\Delta x)}{(\\Delta x)^2}\\\\\n",
    "\\dfrac{\\partial T}{\\partial t}&\\approx\\dfrac{T(t+\\Delta t,x)-T(t,x)}{\\Delta t}\n",
    "\\end{align}$$\n",
    "And using the heat equation we see that:\n",
    "$$\\begin{align}\n",
    "T(t+\\Delta t,x)&\\approx T(t,x)+\\dfrac{D\\Delta t}{(\\Delta x)^2}\\left[T(t,x+\\Delta x)-2T(t,x)+T(t,x-\\Delta x)\\right]\\\\\n",
    "\\end{align}$$\n",
    "\n",
    "#### Stability of Finite Approximation\n",
    "From von Neumann analysis, we will set the constraint:\n",
    "$$h\\ll\\dfrac{(\\Delta x)^2}{2D}$$"
   ]
  },
  {
   "cell_type": "code",
   "execution_count": null,
   "metadata": {},
   "outputs": [],
   "source": [
    "import numpy as np\n",
    "import matplotlib.pyplot as plt\n",
    "\n",
    "# Problem parameters\n",
    "D = 0.1             # m^2/day\n",
    "L,  Δx = 20.0, 0.1  # m\n",
    "tf, Δt = 365, 1.0   # days\n",
    "\n",
    "# Temperature functions\n",
    "def T_deep(t_day: float) -> float:\n",
    "    return 11  # °C\n",
    "def T_surf(t_day: float) -> float:\n",
    "    return 10 + 12 * np.sin(2 * np.pi * t_day / 365)  # °C\n",
    "def T_initial(x: float) -> float:\n",
    "    return T_surf(0) + (T_deep(0) - T_surf(0)) * (x / L)  # °C\n",
    "\n",
    "# Solve the heat equation\n",
    "def T_next(T: np.ndarray, t: float, Δx: float, Δt: float) -> np.ndarray:\n",
    "    k = D * Δt / Δx**2\n",
    "    T_next_array = np.zeros_like(T)\n",
    "    T_next_array[0] = T_surf(t)\n",
    "    T_next_array[-1] = T_deep(t)\n",
    "    for i in range(1, len(T) - 1):\n",
    "        T_next_array[i] = T[i] + k * (T[i + 1] - 2 * T[i] + T[i - 1])\n",
    "    return T_next_array\n",
    "\n",
    "# Plot the initial temperature profile\n",
    "if False:\n",
    "    x = np.linspace(0, L, 100)\n",
    "    plt.plot(x, [T_initial(xi) for xi in x])\n",
    "    plt.xlabel('x (m)')\n",
    "    plt.ylabel('Temperature (°C)')\n",
    "    plt.title('Initial temperature profile')\n",
    "    plt.show()\n",
    "\n",
    "# Plot the temperature profile after tf days\n",
    "if True:\n",
    "    x = np.arange(0, L + Δx, Δx)\n",
    "    T = np.array([T_initial(xi) for xi in x])\n",
    "    for t in range(int(tf // Δt)):\n",
    "        T = T_next(T, t, Δx, Δt)\n",
    "    plt.plot(x, T)\n",
    "    plt.xlabel('x (m)')\n",
    "    plt.ylabel('Temperature (°C)')\n",
    "    plt.title('Temperature profile after {} days'.format(tf))\n",
    "    plt.show()\n",
    "\n"
   ]
  }
 ],
 "metadata": {
  "kernelspec": {
   "display_name": "Python 3",
   "language": "python",
   "name": "python3"
  },
  "language_info": {
   "codemirror_mode": {
    "name": "ipython",
    "version": 3
   },
   "file_extension": ".py",
   "mimetype": "text/x-python",
   "name": "python",
   "nbconvert_exporter": "python",
   "pygments_lexer": "ipython3",
   "version": "3.13.1"
  }
 },
 "nbformat": 4,
 "nbformat_minor": 2
}
