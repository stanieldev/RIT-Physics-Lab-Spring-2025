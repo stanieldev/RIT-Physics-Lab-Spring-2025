{
 "cells": [
  {
   "cell_type": "markdown",
   "metadata": {},
   "source": [
    "## Assignment 8B\n",
    "\n",
    "### Problem 1 (50 points)\n",
    "Mean Value Method for Integration.\n",
    "Consider the integral:\n",
    "$$I=\\int_0^2\\sin^2\\left(\\dfrac{1}{x(2-x)}\\right)\\ dx$$\n"
   ]
  },
  {
   "cell_type": "markdown",
   "metadata": {},
   "source": [
    "#### Problem 1.A (40 points)\n",
    "Estimate the value of this integral using the mean value method with $N=10,000$ points."
   ]
  },
  {
   "cell_type": "markdown",
   "metadata": {},
   "source": [
    "#### Problem 1.B (10 points)\n",
    "Evaluate the error in your estimation. Using the formula from the lecture notes, the standard error of the Monte Carlo estimate is given by:\n",
    "$$\\sigma_I\\approx\\dfrac{b-a}{\\sqrt{N}}\\sqrt{\\braket{f^2}-\\braket{f}^2}$$\n",
    "\n",
    "**Hint:** The expectation values appearing at the numerator of the formula above are not known a priori, but you estimate them from the sample itself, using:\n",
    "$$\\begin{align}\n",
    "\\braket{f}&\\approx\\dfrac{1}{N}\\sum_{i=1}^N f(x_i)\\\\\n",
    "\\braket{f^2}&\\approx\\dfrac{1}{N}\\sum_{i=1}^N f(x_i)^2\\\\\n",
    "\\end{align}$$"
   ]
  },
  {
   "cell_type": "code",
   "execution_count": 93,
   "metadata": {},
   "outputs": [
    {
     "name": "stdout",
     "output_type": "stream",
     "text": [
      "Integral estimate: 1.449435 ± 0.005261\n"
     ]
    }
   ],
   "source": [
    "import numpy as np\n",
    "\n",
    "# Problem Parameters\n",
    "def f(x: float) -> float:\n",
    "    return np.sin(1/(x*(2-x)))**2\n",
    "x_min, x_max = 0, 2  # Domain of the function\n",
    "y_min, y_max = 0, 1  # Range of the function\n",
    "N = 10_000           # Number of random points\n",
    "\n",
    "# Generate random points and evaluate the function\n",
    "x_samples = np.random.uniform(x_min, x_max, N)\n",
    "f_samples = f(x_samples)\n",
    "\n",
    "# Estimate the integral using the mean value method\n",
    "integral_estimate = (x_max - x_min) * np.mean(f_samples)\n",
    "\n",
    "# Estimate the error using the standard deviation of the samples\n",
    "error_estimate = (x_max - x_min) * np.std(f_samples) / np.sqrt(N)\n",
    "\n",
    "# Print the results\n",
    "print(f\"Integral estimate: {integral_estimate:.6f} ± {error_estimate:.6f}\")"
   ]
  }
 ],
 "metadata": {
  "kernelspec": {
   "display_name": "Python 3",
   "language": "python",
   "name": "python3"
  },
  "language_info": {
   "codemirror_mode": {
    "name": "ipython",
    "version": 3
   },
   "file_extension": ".py",
   "mimetype": "text/x-python",
   "name": "python",
   "nbconvert_exporter": "python",
   "pygments_lexer": "ipython3",
   "version": "3.13.1"
  }
 },
 "nbformat": 4,
 "nbformat_minor": 2
}
